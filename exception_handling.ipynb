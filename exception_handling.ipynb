{
 "cells": [
  {
   "cell_type": "code",
   "execution_count": 1,
   "id": "04ea34eb-fe63-415c-9ece-8998f4947261",
   "metadata": {},
   "outputs": [],
   "source": [
    "import logging"
   ]
  },
  {
   "cell_type": "code",
   "execution_count": 3,
   "id": "b22f5b51-38aa-444e-b6af-716a256d31a0",
   "metadata": {},
   "outputs": [
    {
     "name": "stdout",
     "output_type": "stream",
     "text": [
      "there is some issue [Errno 2] No such file or directory: 'testing.text'\n"
     ]
    },
    {
     "data": {
      "text/plain": [
       "20"
      ]
     },
     "execution_count": 3,
     "metadata": {},
     "output_type": "execute_result"
    }
   ],
   "source": [
    "try:\n",
    "    f = open('testing.text', 'r')\n",
    "except Exception as e:\n",
    "    print('there is some issue', e)\n",
    "    \n",
    "a = 20\n",
    "a"
   ]
  },
  {
   "cell_type": "code",
   "execution_count": 10,
   "id": "37632be0-e771-443e-9aa4-624ee13aad1f",
   "metadata": {},
   "outputs": [
    {
     "name": "stdout",
     "output_type": "stream",
     "text": [
      "this block will only be executed after try has executed without any exception\n",
      " -> This will always execute <- \n"
     ]
    }
   ],
   "source": [
    "try:\n",
    "    f = open('testing.text', 'w')\n",
    "    f.write('This is my message')\n",
    "    \n",
    "except Exception as e:\n",
    "    print('there is some issue', e)\n",
    "else: \n",
    "    f.close()\n",
    "    print('this block will only be executed after try has executed without any exception')\n",
    "    \n",
    "finally :\n",
    "    print(\" -> This will always execute <- \")"
   ]
  },
  {
   "cell_type": "code",
   "execution_count": 11,
   "id": "bf3b171e-177d-4385-a045-5a1c8ae651f6",
   "metadata": {},
   "outputs": [
    {
     "name": "stdin",
     "output_type": "stream",
     "text": [
      "Enter your age: 89\n"
     ]
    }
   ],
   "source": [
    "age = int(input('EntExceptionyour age:'))\n"
   ]
  },
  {
   "cell_type": "raw",
   "id": "52f957de-9f53-4509-93af-c4baf96ff8c9",
   "metadata": {},
   "source": [
    "creating a new class agevalidation and inheriting the properties of Exception class ↓"
   ]
  },
  {
   "cell_type": "code",
   "execution_count": 13,
   "id": "5c688382-5e2f-4885-9d03-4c65214d3295",
   "metadata": {},
   "outputs": [],
   "source": [
    "class agevalidation(Exception):\n",
    "    def __init__(self,msg):\n",
    "        self.msg = msg"
   ]
  },
  {
   "cell_type": "code",
   "execution_count": 14,
   "id": "e94424f3-abd5-48fc-b7bc-587363fb4764",
   "metadata": {},
   "outputs": [],
   "source": [
    "def validate_age(age):\n",
    "    if age<0:\n",
    "        raise agevalidation(\"age should not be negative\")\n",
    "    elif age > 100:\n",
    "        raise agevalidation('You are ancient !!!' )\n",
    "        \n",
    "    else : \n",
    "        print('age is valid')"
   ]
  },
  {
   "cell_type": "code",
   "execution_count": 15,
   "id": "e84827d2-939f-4a4f-8a07-29cd26cf2753",
   "metadata": {},
   "outputs": [
    {
     "name": "stdin",
     "output_type": "stream",
     "text": [
      "Enter your age: -9978\n"
     ]
    },
    {
     "name": "stdout",
     "output_type": "stream",
     "text": [
      "age should not be negative\n"
     ]
    }
   ],
   "source": [
    "try:\n",
    "    age = int(input(\"Enter your age:\"))\n",
    "    validate_age(age)\n",
    "    \n",
    "except agevalidation as e:\n",
    "    print(e)"
   ]
  },
  {
   "cell_type": "code",
   "execution_count": null,
   "id": "5ab3337d-8b25-43dc-9581-130c540b1218",
   "metadata": {},
   "outputs": [],
   "source": []
  }
 ],
 "metadata": {
  "kernelspec": {
   "display_name": "Python 3 (ipykernel)",
   "language": "python",
   "name": "python3"
  },
  "language_info": {
   "codemirror_mode": {
    "name": "ipython",
    "version": 3
   },
   "file_extension": ".py",
   "mimetype": "text/x-python",
   "name": "python",
   "nbconvert_exporter": "python",
   "pygments_lexer": "ipython3",
   "version": "3.10.8"
  }
 },
 "nbformat": 4,
 "nbformat_minor": 5
}
