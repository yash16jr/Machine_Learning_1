{
 "cells": [
  {
   "cell_type": "markdown",
   "id": "89fdd699-df99-45ee-8a59-0a6ff4976225",
   "metadata": {},
   "source": [
    "## Random Forest Classifier with Pipelines"
   ]
  },
  {
   "cell_type": "code",
   "execution_count": 30,
   "id": "26ee2360-8948-4e05-9200-7c9641270bf2",
   "metadata": {},
   "outputs": [],
   "source": [
    "import pandas as pd\n",
    "import numpy as np\n",
    "import seaborn as sns\n",
    "import matplotlib.pyplot as plt"
   ]
  },
  {
   "cell_type": "code",
   "execution_count": 31,
   "id": "feffddc1-d94b-4ecf-90df-ab4c3dc8a7aa",
   "metadata": {},
   "outputs": [
    {
     "data": {
      "text/html": [
       "<div>\n",
       "<style scoped>\n",
       "    .dataframe tbody tr th:only-of-type {\n",
       "        vertical-align: middle;\n",
       "    }\n",
       "\n",
       "    .dataframe tbody tr th {\n",
       "        vertical-align: top;\n",
       "    }\n",
       "\n",
       "    .dataframe thead th {\n",
       "        text-align: right;\n",
       "    }\n",
       "</style>\n",
       "<table border=\"1\" class=\"dataframe\">\n",
       "  <thead>\n",
       "    <tr style=\"text-align: right;\">\n",
       "      <th></th>\n",
       "      <th>total_bill</th>\n",
       "      <th>tip</th>\n",
       "      <th>sex</th>\n",
       "      <th>smoker</th>\n",
       "      <th>day</th>\n",
       "      <th>time</th>\n",
       "      <th>size</th>\n",
       "    </tr>\n",
       "  </thead>\n",
       "  <tbody>\n",
       "    <tr>\n",
       "      <th>0</th>\n",
       "      <td>16.99</td>\n",
       "      <td>1.01</td>\n",
       "      <td>Female</td>\n",
       "      <td>No</td>\n",
       "      <td>Sun</td>\n",
       "      <td>Dinner</td>\n",
       "      <td>2</td>\n",
       "    </tr>\n",
       "    <tr>\n",
       "      <th>1</th>\n",
       "      <td>10.34</td>\n",
       "      <td>1.66</td>\n",
       "      <td>Male</td>\n",
       "      <td>No</td>\n",
       "      <td>Sun</td>\n",
       "      <td>Dinner</td>\n",
       "      <td>3</td>\n",
       "    </tr>\n",
       "    <tr>\n",
       "      <th>2</th>\n",
       "      <td>21.01</td>\n",
       "      <td>3.50</td>\n",
       "      <td>Male</td>\n",
       "      <td>No</td>\n",
       "      <td>Sun</td>\n",
       "      <td>Dinner</td>\n",
       "      <td>3</td>\n",
       "    </tr>\n",
       "    <tr>\n",
       "      <th>3</th>\n",
       "      <td>23.68</td>\n",
       "      <td>3.31</td>\n",
       "      <td>Male</td>\n",
       "      <td>No</td>\n",
       "      <td>Sun</td>\n",
       "      <td>Dinner</td>\n",
       "      <td>2</td>\n",
       "    </tr>\n",
       "    <tr>\n",
       "      <th>4</th>\n",
       "      <td>24.59</td>\n",
       "      <td>3.61</td>\n",
       "      <td>Female</td>\n",
       "      <td>No</td>\n",
       "      <td>Sun</td>\n",
       "      <td>Dinner</td>\n",
       "      <td>4</td>\n",
       "    </tr>\n",
       "  </tbody>\n",
       "</table>\n",
       "</div>"
      ],
      "text/plain": [
       "   total_bill   tip     sex smoker  day    time  size\n",
       "0       16.99  1.01  Female     No  Sun  Dinner     2\n",
       "1       10.34  1.66    Male     No  Sun  Dinner     3\n",
       "2       21.01  3.50    Male     No  Sun  Dinner     3\n",
       "3       23.68  3.31    Male     No  Sun  Dinner     2\n",
       "4       24.59  3.61  Female     No  Sun  Dinner     4"
      ]
     },
     "execution_count": 31,
     "metadata": {},
     "output_type": "execute_result"
    }
   ],
   "source": [
    "df = sns.load_dataset('tips')\n",
    "df.head()"
   ]
  },
  {
   "cell_type": "code",
   "execution_count": 32,
   "id": "61b32201-769a-4c64-b01a-12072aa8d792",
   "metadata": {},
   "outputs": [
    {
     "data": {
      "text/plain": [
       "['Dinner', 'Lunch']\n",
       "Categories (2, object): ['Lunch', 'Dinner']"
      ]
     },
     "execution_count": 32,
     "metadata": {},
     "output_type": "execute_result"
    }
   ],
   "source": [
    "df['time'].unique()"
   ]
  },
  {
   "cell_type": "code",
   "execution_count": 33,
   "id": "e06eeb42-1510-431d-aaad-e01e5356ac1a",
   "metadata": {},
   "outputs": [
    {
     "name": "stdout",
     "output_type": "stream",
     "text": [
      "<class 'pandas.core.frame.DataFrame'>\n",
      "RangeIndex: 244 entries, 0 to 243\n",
      "Data columns (total 7 columns):\n",
      " #   Column      Non-Null Count  Dtype   \n",
      "---  ------      --------------  -----   \n",
      " 0   total_bill  244 non-null    float64 \n",
      " 1   tip         244 non-null    float64 \n",
      " 2   sex         244 non-null    category\n",
      " 3   smoker      244 non-null    category\n",
      " 4   day         244 non-null    category\n",
      " 5   time        244 non-null    category\n",
      " 6   size        244 non-null    int64   \n",
      "dtypes: category(4), float64(2), int64(1)\n",
      "memory usage: 7.4 KB\n"
     ]
    }
   ],
   "source": [
    "df.info()"
   ]
  },
  {
   "cell_type": "code",
   "execution_count": 34,
   "id": "3ac14af4-0595-4ba1-a967-97e78dbc7782",
   "metadata": {},
   "outputs": [],
   "source": [
    "from sklearn.preprocessing import LabelEncoder\n",
    "encoder = LabelEncoder()\n",
    "df['time'] = encoder.fit_transform(df['time'])"
   ]
  },
  {
   "cell_type": "code",
   "execution_count": 35,
   "id": "09f8f963-a03e-49d3-bf7c-b2c456b26dcc",
   "metadata": {},
   "outputs": [],
   "source": [
    "# Divide dataset into independent and dependent features"
   ]
  },
  {
   "cell_type": "code",
   "execution_count": 36,
   "id": "805ef268-de4f-4fcd-99ed-63abd28585e9",
   "metadata": {},
   "outputs": [],
   "source": [
    "X = df.drop(labels = ['time'], axis = 1)\n",
    "y = df['time']"
   ]
  },
  {
   "cell_type": "code",
   "execution_count": 37,
   "id": "ab820fe8-a793-40ff-8ea1-d9e163f8272c",
   "metadata": {},
   "outputs": [],
   "source": [
    "from sklearn.model_selection import train_test_split"
   ]
  },
  {
   "cell_type": "code",
   "execution_count": 50,
   "id": "f91089c1-cd5e-4067-92e3-2a214115456b",
   "metadata": {},
   "outputs": [],
   "source": [
    "X_train, X_test, y_train , y_test = train_test_split(X, y, test_size=0.2, random_state=42)"
   ]
  },
  {
   "cell_type": "code",
   "execution_count": 51,
   "id": "1fccce6e-4af2-4bd6-bde8-22994eb79984",
   "metadata": {},
   "outputs": [],
   "source": [
    "# Handling missing values automatically\n",
    "from sklearn.impute import SimpleImputer\n",
    "# We have nominal values in dataset so we can convert them using OneHotEncoding\n",
    "from sklearn.preprocessing import OneHotEncoder\n",
    "# Feature Scaling\n",
    "from sklearn.preprocessing import StandardScaler\n",
    "# Automating the process\n",
    "from sklearn.pipeline import Pipeline\n",
    "from sklearn.compose import ColumnTransformer"
   ]
  },
  {
   "cell_type": "code",
   "execution_count": 52,
   "id": "ed99397f-8450-49b3-9be1-b1751dab0d99",
   "metadata": {},
   "outputs": [],
   "source": [
    "categorical_cols = ['sex','smoker', 'day']\n",
    "numerical_cols = ['total_bill', 'tip', 'size']"
   ]
  },
  {
   "cell_type": "code",
   "execution_count": 53,
   "id": "079a9362-9dfe-4f97-821f-6ef89f9af4d5",
   "metadata": {},
   "outputs": [],
   "source": [
    "## Automating the feature engineering"
   ]
  },
  {
   "cell_type": "code",
   "execution_count": 54,
   "id": "61aa6f59-7592-42b3-bb4f-be5845943fd3",
   "metadata": {},
   "outputs": [],
   "source": [
    "# Pipeline for numerical values\n",
    "num_pipeline =  Pipeline(\n",
    "    steps = [\n",
    "        ('imputer', SimpleImputer(strategy= 'median')),# Handles the missing values\n",
    "        ('scaler', StandardScaler()) # Feature scaling\n",
    "    ] \n",
    ") \n",
    "\n",
    "\n",
    "# Pipeline for categorical values\n",
    "cat_pipeline = Pipeline(\n",
    "    steps = [\n",
    "        ('imputer', SimpleImputer(strategy= 'most_frequent')),# Handles the missing values\n",
    "        ('onehotencoder', OneHotEncoder()) # encoding features\n",
    "    ]\n",
    ")"
   ]
  },
  {
   "cell_type": "code",
   "execution_count": 55,
   "id": "5d3aa9b4-800c-4572-8062-1bd6aa466078",
   "metadata": {},
   "outputs": [],
   "source": [
    "# Creating a wrapper for pipeline\n",
    "preprocessor = ColumnTransformer([\n",
    "            ('num_pipeline', num_pipeline, numerical_cols),\n",
    "            ('cat_pipeline', cat_pipeline, categorical_cols)\n",
    "\n",
    "])"
   ]
  },
  {
   "cell_type": "code",
   "execution_count": 56,
   "id": "ce604ec0-1f12-4e30-b9ef-97eca3d2ced2",
   "metadata": {},
   "outputs": [],
   "source": [
    "X_train = preprocessor.fit_transform(X_train)\n",
    "X_test = preprocessor.transform(X_test)"
   ]
  },
  {
   "cell_type": "code",
   "execution_count": 63,
   "id": "4e43a4ce-e22c-494c-9d69-57aff7511146",
   "metadata": {},
   "outputs": [],
   "source": [
    "from sklearn.ensemble import RandomForestClassifier\n",
    "from sklearn.tree import DecisionTreeClassifier\n",
    "from sklearn.svm import SVC"
   ]
  },
  {
   "cell_type": "code",
   "execution_count": 64,
   "id": "bebdf4b5-e149-46aa-9cb5-2cb86b4295e8",
   "metadata": {},
   "outputs": [],
   "source": [
    "# Automating the model training process\n",
    "models = {\n",
    "    'Random Forest' : RandomForestClassifier(),\n",
    "    'Decision Tree' : DecisionTreeClassifier(),\n",
    "    'SVC Classifier' : SVC()\n",
    "\n",
    "}"
   ]
  },
  {
   "cell_type": "code",
   "execution_count": 65,
   "id": "2c6eed98-3de5-4794-abe9-8470865cd2d2",
   "metadata": {},
   "outputs": [],
   "source": [
    "from sklearn.metrics import accuracy_score"
   ]
  },
  {
   "cell_type": "code",
   "execution_count": 66,
   "id": "bdc6c847-0a54-462e-97ee-53727eea7766",
   "metadata": {
    "tags": []
   },
   "outputs": [],
   "source": [
    "def evaluate_model(X_train,y_train, X_test,y_test, models ):\n",
    "    \n",
    "    report = {}\n",
    "    for i in range(len(models)):\n",
    "        model = list(models.values())[i]\n",
    "        #Training the model\n",
    "        model.fit(X_train, y_train)\n",
    "        \n",
    "        \n",
    "        #Predicting the result\n",
    "        y_pred = model.predict(X_test)\n",
    "        \n",
    "        #Get the accuracy\n",
    "        \n",
    "        test_model_score = accuracy_score(y_pred, y_test)\n",
    "        \n",
    "        report[list(models.keys())[i]] = test_model_score\n",
    "        \n",
    "             \n",
    "        \n",
    "    return report   \n",
    "        \n",
    "    \n",
    "    \n",
    "    "
   ]
  },
  {
   "cell_type": "code",
   "execution_count": 67,
   "id": "7bc34a7d-2f59-4d2c-bf4b-c7f3fd46e731",
   "metadata": {},
   "outputs": [
    {
     "data": {
      "text/plain": [
       "{'Random Forest': 0.9591836734693877,\n",
       " 'Decision Tree': 0.9387755102040817,\n",
       " 'SVC Classifier': 0.9591836734693877}"
      ]
     },
     "execution_count": 67,
     "metadata": {},
     "output_type": "execute_result"
    }
   ],
   "source": [
    "evaluate_model(X_train,y_train, X_test,y_test, models)"
   ]
  },
  {
   "cell_type": "code",
   "execution_count": 68,
   "id": "675c480b-7fe2-4468-af2c-cefe0d3b2000",
   "metadata": {},
   "outputs": [],
   "source": [
    "classifier = RandomForestClassifier()"
   ]
  },
  {
   "cell_type": "code",
   "execution_count": 76,
   "id": "ec0f98bb-a33e-4ddc-8dae-7c1f66d1746f",
   "metadata": {},
   "outputs": [],
   "source": [
    "params = {'max_depth' : [3,4,5,6,7,8,9,10],\n",
    "         'n_estimators' : [50,100, 200, 300],\n",
    "         'criterion' : ['gini', 'entropy']\n",
    "         }"
   ]
  },
  {
   "cell_type": "code",
   "execution_count": null,
   "id": "0ca079b4-3b42-4371-be46-a02b5738a77a",
   "metadata": {},
   "outputs": [],
   "source": [
    "from sklearn.model_selection import RandomizedSearchCV\n",
    "rcv = RandomizedSearchCV(estimator= classifier, param_distributions=params, cv = 5, scoring = 'accuracy' , verbose = 3)\n",
    "rcv.fit(X_train, y_train)"
   ]
  },
  {
   "cell_type": "code",
   "execution_count": 78,
   "id": "382f157a-ea45-41d3-93f4-d88c7b3eb303",
   "metadata": {},
   "outputs": [
    {
     "data": {
      "text/plain": [
       "{'n_estimators': 100, 'max_depth': 9, 'criterion': 'entropy'}"
      ]
     },
     "execution_count": 78,
     "metadata": {},
     "output_type": "execute_result"
    }
   ],
   "source": [
    "rcv.best_params_"
   ]
  },
  {
   "cell_type": "code",
   "execution_count": null,
   "id": "3010a0d5-9014-4a3d-af17-b8530a6eadab",
   "metadata": {},
   "outputs": [],
   "source": []
  }
 ],
 "metadata": {
  "kernelspec": {
   "display_name": "Python 3 (ipykernel)",
   "language": "python",
   "name": "python3"
  },
  "language_info": {
   "codemirror_mode": {
    "name": "ipython",
    "version": 3
   },
   "file_extension": ".py",
   "mimetype": "text/x-python",
   "name": "python",
   "nbconvert_exporter": "python",
   "pygments_lexer": "ipython3",
   "version": "3.10.8"
  }
 },
 "nbformat": 4,
 "nbformat_minor": 5
}
